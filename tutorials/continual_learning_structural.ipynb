{
 "cells": [
  {
   "cell_type": "code",
   "execution_count": 8,
   "metadata": {},
   "outputs": [],
   "source": [
    "# %%\n",
    "from kan import *\n",
    "import numpy as np\n",
    "import torch\n",
    "import matplotlib.pyplot as plt\n",
    "import pdb\n"
   ]
  },
  {
   "cell_type": "code",
   "execution_count": 9,
   "metadata": {},
   "outputs": [],
   "source": [
    "# %%\n",
    "import math\n",
    "from torch.utils.data import Dataset\n",
    "\n",
    "# f = lambda x: (x[:,[0]]**2 + x[:,[2]] + 3*torch.sin(x[:,[1]]))/(x[:,[0]] + 2*x[:,[1]] - x[:,[2]])\n",
    "# sin(x) * cos(y) + exp(z/2) - x^2 * y\n",
    "f = lambda x: torch.sin(x[:, [0]]) * torch.cos(x[:, [1]]) + torch.exp(x[:, [2]]/2) - x[:, [0]]**2 * x[:, [1]]\n",
    "datasetall = create_dataset(f, n_var=3, train_num=20000, test_num=4000, seed=0, ranges=[[-5, 5], [-5, 5], [-5, 5]])\n",
    "datasetoct0 = create_dataset(f, n_var=3, train_num=2500, test_num=500, seed=0, ranges=[[-5, 0], [-5, 0], [-5, 0]])\n"
   ]
  },
  {
   "cell_type": "markdown",
   "metadata": {},
   "source": [
    " ## build KAN architecture"
   ]
  },
  {
   "cell_type": "markdown",
   "metadata": {},
   "source": [
    " Training KAN"
   ]
  },
  {
   "cell_type": "code",
   "execution_count": 10,
   "metadata": {},
   "outputs": [
    {
     "name": "stderr",
     "output_type": "stream",
     "text": [
      "train loss: 3.63e-02 | test loss: 4.08e-02 | reg: 1.96e+01 : 100%|██| 80/80 [00:31<00:00,  2.54it/s]\n"
     ]
    }
   ],
   "source": [
    "# %%\n",
    "# setting bias_trainable=False, sp_trainable=False, sb_trainable=False is important.\n",
    "# otherwise KAN will have random scaling and shift for samples in previous stages\n",
    "\n",
    "# model = KAN(width=[3,5,1], grid=5, k=3, noise_scale=0.1, bias_trainable=False, sp_trainable=False, sb_trainable=False, device=\"cpu\")\n",
    "model = KAN(width=[3,5,1], grid=5, k=3, noise_scale=0.1, device=\"cpu\")\n",
    "# model.train(dataset, opt = 'Adam', steps=2000, update_grid=False, device=\"cuda\", lr=0.5e-3)\n",
    "model.train(datasetoct0, opt=\"LBFGS\", steps=80);"
   ]
  },
  {
   "cell_type": "markdown",
   "metadata": {},
   "source": [
    " Prediction of KAN after each stage"
   ]
  },
  {
   "cell_type": "code",
   "execution_count": 11,
   "metadata": {},
   "outputs": [],
   "source": []
  },
  {
   "cell_type": "code",
   "execution_count": 15,
   "metadata": {},
   "outputs": [],
   "source": [
    "f_pred = model(datasetoct0['test_input']).to('cpu').detach().numpy()"
   ]
  },
  {
   "cell_type": "code",
   "execution_count": 16,
   "metadata": {},
   "outputs": [],
   "source": [
    "f_true = datasetoct0['test_label'].to('cpu').detach().numpy()"
   ]
  },
  {
   "cell_type": "code",
   "execution_count": 17,
   "metadata": {},
   "outputs": [
    {
     "name": "stdout",
     "output_type": "stream",
     "text": [
      "R^2: 0.9999982755051633\n"
     ]
    }
   ],
   "source": [
    "# compute R^2 between prediction and true value\n",
    "r2 = 1 - np.sum((f_pred - f_true)**2)/np.sum(f_true**2)\n",
    "print(f\"R^2: {r2}\")"
   ]
  },
  {
   "cell_type": "markdown",
   "metadata": {},
   "source": [
    "### now prune network"
   ]
  },
  {
   "cell_type": "code",
   "execution_count": 18,
   "metadata": {},
   "outputs": [
    {
     "data": {
      "image/png": "[encoded data removed]",
      "text/plain": [
       "<Figure size 500x400 with 9 Axes>"
      ]
     },
     "metadata": {},
     "output_type": "display_data"
    }
   ],
   "source": [
    "model = model.prune(threshold=0.1)\n",
    "model(datasetoct0['train_input'].to(\"cpu\"))\n",
    "model.plot()"
   ]
  },
  {
   "cell_type": "markdown",
   "metadata": {},
   "source": [
    "## retrain network using such model and see"
   ]
  },
  {
   "cell_type": "code",
   "execution_count": 19,
   "metadata": {},
   "outputs": [
    {
     "name": "stderr",
     "output_type": "stream",
     "text": [
      "train loss: 1.12e-01 | test loss: 1.02e-01 | reg: 1.14e+01 : 100%|██| 80/80 [00:19<00:00,  4.12it/s]"
     ]
    },
    {
     "name": "stdout",
     "output_type": "stream",
     "text": [
      "R^2: 0.9999892189089223\n"
     ]
    },
    {
     "name": "stderr",
     "output_type": "stream",
     "text": [
      "\n"
     ]
    }
   ],
   "source": [
    "model.train(datasetoct0, opt=\"LBFGS\", steps=80);\n",
    "f_pred = model(datasetoct0['test_input']).to('cpu').detach().numpy()\n",
    "f_true = datasetoct0['test_label'].to('cpu').detach().numpy()\n",
    "r2 = 1 - np.sum((f_pred - f_true)**2)/np.sum(f_true**2)\n",
    "print(f\"R^2: {r2}\")"
   ]
  },
  {
   "cell_type": "markdown",
   "metadata": {},
   "source": [
    "## looks good, as R^2 > 0.95. We will use the network for the next dataset"
   ]
  },
  {
   "cell_type": "code",
   "execution_count": 20,
   "metadata": {},
   "outputs": [],
   "source": [
    "datasetoct1 = create_dataset(f, n_var=3, train_num=2500, test_num=500, seed=0, ranges=[[-5, 0], [-5, 0], [0, 5]])"
   ]
  },
  {
   "cell_type": "markdown",
   "metadata": {},
   "source": [
    "### freeze/slow down/regularize network and determine nodes that is the opposite of pruning"
   ]
  },
  {
   "cell_type": "markdown",
   "metadata": {},
   "source": []
  }
 ],
 "metadata": {
  "kernelspec": {
   "display_name": "pykan-env",
   "language": "python",
   "name": "python3"
  },
  "language_info": {
   "codemirror_mode": {
    "name": "ipython",
    "version": 3
   },
   "file_extension": ".py",
   "mimetype": "text/x-python",
   "name": "python",
   "nbconvert_exporter": "python",
   "pygments_lexer": "ipython3",
   "version": "3.10.12"
  }
 },
 "nbformat": 4,
 "nbformat_minor": 2
}
