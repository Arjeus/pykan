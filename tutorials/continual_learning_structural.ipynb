{
 "cells": [
  {
   "cell_type": "code",
   "execution_count": 1,
   "metadata": {},
   "outputs": [],
   "source": [
    "# %%\n",
    "from kan import *\n",
    "import numpy as np\n",
    "import torch\n",
    "import matplotlib.pyplot as plt\n",
    "import pdb\n"
   ]
  },
  {
   "cell_type": "code",
   "execution_count": 2,
   "metadata": {},
   "outputs": [],
   "source": [
    "# %%\n",
    "import math\n",
    "from torch.utils.data import Dataset\n",
    "\n",
    "# f = lambda x: (x[:,[0]]**2 + x[:,[2]] + 3*torch.sin(x[:,[1]]))/(x[:,[0]] + 2*x[:,[1]] - x[:,[2]])\n",
    "# sin(x) * cos(y) + exp(z/2) - x^2 * y\n",
    "f = lambda x: torch.sin(x[:, [0]]) * torch.cos(x[:, [1]]) + torch.exp(x[:, [2]]/2) - x[:, [0]]**2 * x[:, [1]]\n",
    "\n",
    "trainpoints = int((5/0.05)**3)\n",
    "testpoints = trainpoints//5\n",
    "\n",
    "trainpoints_subtask = trainpoints // 5\n",
    "testpoints_subtask = testpoints // 5\n",
    "pruning_threshold = 0.05\n",
    "\n",
    "datasetall = create_dataset(f, n_var=3, train_num=trainpoints, test_num=testpoints, seed=0, ranges=[[-5, 5], [-5, 5], [-5, 5]])\n",
    "datasetoct0 = create_dataset(f, n_var=3, train_num=trainpoints_subtask, test_num=testpoints_subtask, seed=0, ranges=[[-5, 0], [-5, 0], [-5, 0]])\n"
   ]
  },
  {
   "cell_type": "markdown",
   "metadata": {},
   "source": [
    " ## build KAN architecture"
   ]
  },
  {
   "cell_type": "markdown",
   "metadata": {},
   "source": [
    " Training KAN"
   ]
  },
  {
   "cell_type": "code",
   "execution_count": 3,
   "metadata": {},
   "outputs": [
    {
     "name": "stderr",
     "output_type": "stream",
     "text": [
      "train loss: 9.83e-02 | test loss: 9.91e-02 | reg: 3.92e+01 : 100%|██| 80/80 [28:25<00:00, 21.32s/it]\n"
     ]
    }
   ],
   "source": [
    "# %%\n",
    "# setting bias_trainable=False, sp_trainable=False, sb_trainable=False is important.\n",
    "# otherwise KAN will have random scaling and shift for samples in previous stages\n",
    "\n",
    "model = KAN(width=[3,5,1], grid=5, k=3, sp_trainable=False, sb_trainable=False, noise_scale=0.1, device=\"cpu\")\n",
    "# make a 3D tensor with 5 points in each dimension\n",
    "x = torch.linspace(-5, 5, steps=11).repeat(3, 1).T\n",
    "\n",
    "model.update_grid_from_samples(x)\n",
    "# model = KAN(width=[3,5,1], grid=5, k=3, noise_scale=0.1, device=\"cpu\")\n",
    "# model.train(datasetoct0, opt = 'Adam', steps=5000, update_grid=False, device=\"cuda\", lr=0.02);\n",
    "model.train(datasetoct0, opt=\"LBFGS\", steps=80);"
   ]
  },
  {
   "cell_type": "code",
   "execution_count": 4,
   "metadata": {},
   "outputs": [],
   "source": [
    "f_pred = model(datasetoct0['test_input'].to('cpu')).to('cpu').detach().numpy()"
   ]
  },
  {
   "cell_type": "code",
   "execution_count": 5,
   "metadata": {},
   "outputs": [],
   "source": [
    "f_true = datasetoct0['test_label'].to('cpu').detach().numpy()"
   ]
  },
  {
   "cell_type": "code",
   "execution_count": 6,
   "metadata": {},
   "outputs": [
    {
     "name": "stdout",
     "output_type": "stream",
     "text": [
      "R^2: 0.9999906831053522\n",
      "R^2 of total dataset: -0.011580586433410645\n"
     ]
    }
   ],
   "source": [
    "# compute R^2 between prediction and true value\n",
    "r2 = 1 - np.sum((f_pred - f_true)**2)/np.sum(f_true**2)\n",
    "print(f\"R^2: {r2}\")\n",
    "\n",
    "f_pred = model(datasetall['test_input'].to('cpu')).to('cpu').detach().numpy()\n",
    "f_true = datasetall['test_label'].to('cpu').detach().numpy()\n",
    "r2 = 1 - np.sum((f_pred - f_true)**2)/np.sum(f_true**2)\n",
    "print(f\"R^2 of total dataset: {r2}\")"
   ]
  },
  {
   "cell_type": "code",
   "execution_count": 7,
   "metadata": {},
   "outputs": [
    {
     "data": {
      "image/png": "[encoded data removed]",
      "text/plain": [
       "<Figure size 500x400 with 5 Axes>"
      ]
     },
     "metadata": {},
     "output_type": "display_data"
    }
   ],
   "source": [
    "model = model.prune(threshold=0.1)\n",
    "model(datasetoct0['train_input'].to(\"cpu\"))\n",
    "model.plot()"
   ]
  },
  {
   "cell_type": "markdown",
   "metadata": {},
   "source": [
    "## retrain network using such model and see"
   ]
  },
  {
   "cell_type": "code",
   "execution_count": 8,
   "metadata": {},
   "outputs": [
    {
     "name": "stderr",
     "output_type": "stream",
     "text": [
      "train loss: 6.46e-01 | test loss: 6.46e-01 | reg: 7.02e+00 : 100%|██| 80/80 [04:35<00:00,  3.44s/it]"
     ]
    },
    {
     "name": "stdout",
     "output_type": "stream",
     "text": [
      "R^2: 0.9996043009450659\n",
      "R^2 of total dataset: 0.3281276822090149\n"
     ]
    },
    {
     "name": "stderr",
     "output_type": "stream",
     "text": [
      "\n"
     ]
    }
   ],
   "source": [
    "# model.train(datasetoct0, opt = 'Adam', steps=5000, update_grid=False, device=\"cuda\", lr=0.02);\n",
    "model.train(datasetoct0, opt=\"LBFGS\", steps=80);\n",
    "f_pred = model(datasetoct0['test_input'].to('cpu')).to('cpu').detach().numpy()\n",
    "f_true = datasetoct0['test_label'].to('cpu').detach().numpy()\n",
    "r2 = 1 - np.sum((f_pred - f_true)**2)/np.sum(f_true**2)\n",
    "print(f\"R^2: {r2}\")\n",
    "\n",
    "f_pred = model(datasetall['test_input'].to('cpu')).to('cpu').detach().numpy()\n",
    "f_true = datasetall['test_label'].to('cpu').detach().numpy()\n",
    "r2 = 1 - np.sum((f_pred - f_true)**2)/np.sum(f_true**2)\n",
    "print(f\"R^2 of total dataset: {r2}\")"
   ]
  },
  {
   "cell_type": "markdown",
   "metadata": {},
   "source": [
    "## looks good, as R^2 > 0.95. We will use the network for the next dataset"
   ]
  },
  {
   "cell_type": "code",
   "execution_count": 9,
   "metadata": {},
   "outputs": [],
   "source": [
    "datasetoct1 = create_dataset(f, n_var=3, train_num=trainpoints_subtask, test_num=testpoints_subtask, seed=0, ranges=[[-5, 0], [-5, 0], [0, 5]])"
   ]
  },
  {
   "cell_type": "markdown",
   "metadata": {},
   "source": [
    "### freeze/slow down/regularize/stop early network and determine nodes that is the opposite of pruning"
   ]
  },
  {
   "cell_type": "code",
   "execution_count": 10,
   "metadata": {},
   "outputs": [],
   "source": [
    "# model.train(datasetoct1, opt = 'Adam', steps=5000, update_grid=False, device=\"cuda\", lr=lr_half);"
   ]
  },
  {
   "cell_type": "code",
   "execution_count": 11,
   "metadata": {},
   "outputs": [
    {
     "name": "stderr",
     "output_type": "stream",
     "text": [
      "train loss: 3.23e+00 | test loss: 3.22e+00 | reg: 9.33e+00 : 100%|██| 40/40 [02:14<00:00,  3.37s/it]"
     ]
    },
    {
     "name": "stdout",
     "output_type": "stream",
     "text": [
      "R^2: 0.9917527427896857\n",
      "R^2 of total dataset: -7.52069091796875\n"
     ]
    },
    {
     "name": "stderr",
     "output_type": "stream",
     "text": [
      "\n"
     ]
    }
   ],
   "source": [
    "model.train(datasetoct1, opt=\"LBFGS\", steps=int(80/2));\n",
    "f_pred = model(datasetoct1['test_input'].to('cpu')).to('cpu').detach().numpy()\n",
    "f_true = datasetoct1['test_label'].to('cpu').detach().numpy()\n",
    "r2 = 1 - np.sum((f_pred - f_true)**2)/np.sum(f_true**2)\n",
    "print(f\"R^2: {r2}\")\n",
    "\n",
    "f_pred = model(datasetall['test_input'].to('cpu')).to('cpu').detach().numpy()\n",
    "f_true = datasetall['test_label'].to('cpu').detach().numpy()\n",
    "r2 = 1 - np.sum((f_pred - f_true)**2)/np.sum(f_true**2)\n",
    "print(f\"R^2 of total dataset: {r2}\")"
   ]
  },
  {
   "cell_type": "markdown",
   "metadata": {},
   "source": [
    "Less catastrophic forgetting PROVIDED that the network is well pruned. Occam's Razor?"
   ]
  },
  {
   "cell_type": "code",
   "execution_count": 12,
   "metadata": {},
   "outputs": [
    {
     "data": {
      "image/png": "[encoded data removed]",
      "text/plain": [
       "<Figure size 500x400 with 5 Axes>"
      ]
     },
     "metadata": {},
     "output_type": "display_data"
    }
   ],
   "source": [
    "model = model.prune(threshold=pruning_threshold)\n",
    "model(datasetoct1['train_input'].to(\"cpu\"))\n",
    "model.plot()"
   ]
  },
  {
   "cell_type": "code",
   "execution_count": 13,
   "metadata": {},
   "outputs": [
    {
     "name": "stderr",
     "output_type": "stream",
     "text": [
      "train loss: 1.57e+00 | test loss: 1.57e+00 | reg: 4.82e+00 : 100%|██| 26/26 [01:28<00:00,  3.40s/it]"
     ]
    },
    {
     "name": "stdout",
     "output_type": "stream",
     "text": [
      "R^2: 0.997611640021205\n",
      "R^2 of total dataset: -2.849461078643799\n"
     ]
    },
    {
     "name": "stderr",
     "output_type": "stream",
     "text": [
      "\n"
     ]
    }
   ],
   "source": [
    "datasetoct2 = create_dataset(f, n_var=3, train_num=trainpoints_subtask, test_num=testpoints_subtask, seed=0, ranges=[[-5, 0], [0, 5], [-5, 0]])\n",
    "model.train(datasetoct2, opt=\"LBFGS\", steps=int(80/3));\n",
    "f_pred = model(datasetoct2['test_input'].to('cpu')).to('cpu').detach().numpy()\n",
    "f_true = datasetoct2['test_label'].to('cpu').detach().numpy()\n",
    "r2 = 1 - np.sum((f_pred - f_true)**2)/np.sum(f_true**2)\n",
    "print(f\"R^2: {r2}\")\n",
    "\n",
    "f_pred = model(datasetall['test_input'].to('cpu')).to('cpu').detach().numpy()\n",
    "f_true = datasetall['test_label'].to('cpu').detach().numpy()\n",
    "r2 = 1 - np.sum((f_pred - f_true)**2)/np.sum(f_true**2)\n",
    "print(f\"R^2 of total dataset: {r2}\")"
   ]
  },
  {
   "cell_type": "code",
   "execution_count": 14,
   "metadata": {},
   "outputs": [
    {
     "data": {
      "image/png": "[encoded data removed]",
      "text/plain": [
       "<Figure size 500x400 with 5 Axes>"
      ]
     },
     "metadata": {},
     "output_type": "display_data"
    }
   ],
   "source": [
    "model = model.prune(threshold=pruning_threshold)\n",
    "model(datasetoct2['train_input'].to(\"cpu\"))\n",
    "model.plot()"
   ]
  },
  {
   "cell_type": "code",
   "execution_count": 15,
   "metadata": {},
   "outputs": [
    {
     "name": "stderr",
     "output_type": "stream",
     "text": [
      "train loss: 2.53e+00 | test loss: 2.52e+00 | reg: 5.12e+00 : 100%|██| 20/20 [01:08<00:00,  3.41s/it]"
     ]
    },
    {
     "name": "stdout",
     "output_type": "stream",
     "text": [
      "R^2: 0.9928696481510997\n",
      "R^2 of total dataset: -4.074105739593506\n"
     ]
    },
    {
     "name": "stderr",
     "output_type": "stream",
     "text": [
      "\n"
     ]
    }
   ],
   "source": [
    "datasetoct3 = create_dataset(f, n_var=3, train_num=trainpoints_subtask, test_num=testpoints_subtask, seed=0, ranges=[[-5, 0], [0, 5], [0, 5]])\n",
    "model.train(datasetoct3, opt=\"LBFGS\", steps=int(80/4));\n",
    "f_pred = model(datasetoct3['test_input'].to('cpu')).to('cpu').detach().numpy()\n",
    "f_true = datasetoct3['test_label'].to('cpu').detach().numpy()\n",
    "r2 = 1 - np.sum((f_pred - f_true)**2)/np.sum(f_true**2)\n",
    "print(f\"R^2: {r2}\")\n",
    "\n",
    "f_pred = model(datasetall['test_input'].to('cpu')).to('cpu').detach().numpy()\n",
    "f_true = datasetall['test_label'].to('cpu').detach().numpy()\n",
    "r2 = 1 - np.sum((f_pred - f_true)**2)/np.sum(f_true**2)\n",
    "print(f\"R^2 of total dataset: {r2}\")"
   ]
  },
  {
   "cell_type": "code",
   "execution_count": 16,
   "metadata": {},
   "outputs": [
    {
     "data": {
      "image/png": "[encoded data removed]",
      "text/plain": [
       "<Figure size 500x400 with 5 Axes>"
      ]
     },
     "metadata": {},
     "output_type": "display_data"
    }
   ],
   "source": [
    "model = model.prune(threshold=pruning_threshold)\n",
    "model(datasetoct3['train_input'].to(\"cpu\"))\n",
    "model.plot()"
   ]
  },
  {
   "cell_type": "code",
   "execution_count": 17,
   "metadata": {},
   "outputs": [
    {
     "name": "stderr",
     "output_type": "stream",
     "text": [
      "train loss: 1.39e+01 | test loss: 1.39e+01 | reg: 4.39e+02 : 100%|██| 16/16 [00:55<00:00,  3.44s/it]"
     ]
    },
    {
     "name": "stdout",
     "output_type": "stream",
     "text": [
      "R^2: 0.8182587772607803\n",
      "R^2 of total dataset: -1.3164293766021729\n"
     ]
    },
    {
     "name": "stderr",
     "output_type": "stream",
     "text": [
      "\n"
     ]
    }
   ],
   "source": [
    "datasetoct4 = create_dataset(f, n_var=3, train_num=trainpoints_subtask, test_num=testpoints_subtask, seed=0, ranges=[[0, 5], [-5, 0], [-5, 0]])\n",
    "model.train(datasetoct4, opt=\"LBFGS\", steps=int(80/5));\n",
    "f_pred = model(datasetoct4['test_input'].to('cpu')).to('cpu').detach().numpy()\n",
    "f_true = datasetoct4['test_label'].to('cpu').detach().numpy()\n",
    "r2 = 1 - np.sum((f_pred - f_true)**2)/np.sum(f_true**2)\n",
    "print(f\"R^2: {r2}\")\n",
    "\n",
    "f_pred = model(datasetall['test_input'].to('cpu')).to('cpu').detach().numpy()\n",
    "f_true = datasetall['test_label'].to('cpu').detach().numpy()\n",
    "r2 = 1 - np.sum((f_pred - f_true)**2)/np.sum(f_true**2)\n",
    "print(f\"R^2 of total dataset: {r2}\")"
   ]
  },
  {
   "cell_type": "code",
   "execution_count": 18,
   "metadata": {},
   "outputs": [
    {
     "ename": "RuntimeError",
     "evalue": "stack expects a non-empty TensorList",
     "output_type": "error",
     "traceback": [
      "\u001b[0;31m---------------------------------------------------------------------------\u001b[0m",
      "\u001b[0;31mRuntimeError\u001b[0m                              Traceback (most recent call last)",
      "Cell \u001b[0;32mIn[18], line 2\u001b[0m\n\u001b[1;32m      1\u001b[0m model \u001b[38;5;241m=\u001b[39m model\u001b[38;5;241m.\u001b[39mprune(threshold\u001b[38;5;241m=\u001b[39mpruning_threshold)\n\u001b[0;32m----> 2\u001b[0m \u001b[43mmodel\u001b[49m\u001b[43m(\u001b[49m\u001b[43mdatasetoct4\u001b[49m\u001b[43m[\u001b[49m\u001b[38;5;124;43m'\u001b[39;49m\u001b[38;5;124;43mtrain_input\u001b[39;49m\u001b[38;5;124;43m'\u001b[39;49m\u001b[43m]\u001b[49m\u001b[38;5;241;43m.\u001b[39;49m\u001b[43mto\u001b[49m\u001b[43m(\u001b[49m\u001b[38;5;124;43m\"\u001b[39;49m\u001b[38;5;124;43mcpu\u001b[39;49m\u001b[38;5;124;43m\"\u001b[39;49m\u001b[43m)\u001b[49m\u001b[43m)\u001b[49m\n\u001b[1;32m      3\u001b[0m model\u001b[38;5;241m.\u001b[39mplot()\n",
      "File \u001b[0;32m~/code/pykan-env/lib/python3.10/site-packages/torch/nn/modules/module.py:1511\u001b[0m, in \u001b[0;36mModule._wrapped_call_impl\u001b[0;34m(self, *args, **kwargs)\u001b[0m\n\u001b[1;32m   1509\u001b[0m     \u001b[38;5;28;01mreturn\u001b[39;00m \u001b[38;5;28mself\u001b[39m\u001b[38;5;241m.\u001b[39m_compiled_call_impl(\u001b[38;5;241m*\u001b[39margs, \u001b[38;5;241m*\u001b[39m\u001b[38;5;241m*\u001b[39mkwargs)  \u001b[38;5;66;03m# type: ignore[misc]\u001b[39;00m\n\u001b[1;32m   1510\u001b[0m \u001b[38;5;28;01melse\u001b[39;00m:\n\u001b[0;32m-> 1511\u001b[0m     \u001b[38;5;28;01mreturn\u001b[39;00m \u001b[38;5;28;43mself\u001b[39;49m\u001b[38;5;241;43m.\u001b[39;49m\u001b[43m_call_impl\u001b[49m\u001b[43m(\u001b[49m\u001b[38;5;241;43m*\u001b[39;49m\u001b[43margs\u001b[49m\u001b[43m,\u001b[49m\u001b[43m \u001b[49m\u001b[38;5;241;43m*\u001b[39;49m\u001b[38;5;241;43m*\u001b[39;49m\u001b[43mkwargs\u001b[49m\u001b[43m)\u001b[49m\n",
      "File \u001b[0;32m~/code/pykan-env/lib/python3.10/site-packages/torch/nn/modules/module.py:1520\u001b[0m, in \u001b[0;36mModule._call_impl\u001b[0;34m(self, *args, **kwargs)\u001b[0m\n\u001b[1;32m   1515\u001b[0m \u001b[38;5;66;03m# If we don't have any hooks, we want to skip the rest of the logic in\u001b[39;00m\n\u001b[1;32m   1516\u001b[0m \u001b[38;5;66;03m# this function, and just call forward.\u001b[39;00m\n\u001b[1;32m   1517\u001b[0m \u001b[38;5;28;01mif\u001b[39;00m \u001b[38;5;129;01mnot\u001b[39;00m (\u001b[38;5;28mself\u001b[39m\u001b[38;5;241m.\u001b[39m_backward_hooks \u001b[38;5;129;01mor\u001b[39;00m \u001b[38;5;28mself\u001b[39m\u001b[38;5;241m.\u001b[39m_backward_pre_hooks \u001b[38;5;129;01mor\u001b[39;00m \u001b[38;5;28mself\u001b[39m\u001b[38;5;241m.\u001b[39m_forward_hooks \u001b[38;5;129;01mor\u001b[39;00m \u001b[38;5;28mself\u001b[39m\u001b[38;5;241m.\u001b[39m_forward_pre_hooks\n\u001b[1;32m   1518\u001b[0m         \u001b[38;5;129;01mor\u001b[39;00m _global_backward_pre_hooks \u001b[38;5;129;01mor\u001b[39;00m _global_backward_hooks\n\u001b[1;32m   1519\u001b[0m         \u001b[38;5;129;01mor\u001b[39;00m _global_forward_hooks \u001b[38;5;129;01mor\u001b[39;00m _global_forward_pre_hooks):\n\u001b[0;32m-> 1520\u001b[0m     \u001b[38;5;28;01mreturn\u001b[39;00m \u001b[43mforward_call\u001b[49m\u001b[43m(\u001b[49m\u001b[38;5;241;43m*\u001b[39;49m\u001b[43margs\u001b[49m\u001b[43m,\u001b[49m\u001b[43m \u001b[49m\u001b[38;5;241;43m*\u001b[39;49m\u001b[38;5;241;43m*\u001b[39;49m\u001b[43mkwargs\u001b[49m\u001b[43m)\u001b[49m\n\u001b[1;32m   1522\u001b[0m \u001b[38;5;28;01mtry\u001b[39;00m:\n\u001b[1;32m   1523\u001b[0m     result \u001b[38;5;241m=\u001b[39m \u001b[38;5;28;01mNone\u001b[39;00m\n",
      "File \u001b[0;32m~/code/pykan-env/lib/python3.10/site-packages/kan/KAN.py:314\u001b[0m, in \u001b[0;36mKAN.forward\u001b[0;34m(self, x)\u001b[0m\n\u001b[1;32m    311\u001b[0m x_numerical, preacts, postacts_numerical, postspline \u001b[38;5;241m=\u001b[39m \u001b[38;5;28mself\u001b[39m\u001b[38;5;241m.\u001b[39mact_fun[l](x)\n\u001b[1;32m    313\u001b[0m \u001b[38;5;28;01mif\u001b[39;00m \u001b[38;5;28mself\u001b[39m\u001b[38;5;241m.\u001b[39msymbolic_enabled \u001b[38;5;241m==\u001b[39m \u001b[38;5;28;01mTrue\u001b[39;00m:\n\u001b[0;32m--> 314\u001b[0m     x_symbolic, postacts_symbolic \u001b[38;5;241m=\u001b[39m \u001b[38;5;28;43mself\u001b[39;49m\u001b[38;5;241;43m.\u001b[39;49m\u001b[43msymbolic_fun\u001b[49m\u001b[43m[\u001b[49m\u001b[43ml\u001b[49m\u001b[43m]\u001b[49m\u001b[43m(\u001b[49m\u001b[43mx\u001b[49m\u001b[43m)\u001b[49m\n\u001b[1;32m    315\u001b[0m \u001b[38;5;28;01melse\u001b[39;00m:\n\u001b[1;32m    316\u001b[0m     x_symbolic \u001b[38;5;241m=\u001b[39m \u001b[38;5;241m0.\u001b[39m\n",
      "File \u001b[0;32m~/code/pykan-env/lib/python3.10/site-packages/torch/nn/modules/module.py:1511\u001b[0m, in \u001b[0;36mModule._wrapped_call_impl\u001b[0;34m(self, *args, **kwargs)\u001b[0m\n\u001b[1;32m   1509\u001b[0m     \u001b[38;5;28;01mreturn\u001b[39;00m \u001b[38;5;28mself\u001b[39m\u001b[38;5;241m.\u001b[39m_compiled_call_impl(\u001b[38;5;241m*\u001b[39margs, \u001b[38;5;241m*\u001b[39m\u001b[38;5;241m*\u001b[39mkwargs)  \u001b[38;5;66;03m# type: ignore[misc]\u001b[39;00m\n\u001b[1;32m   1510\u001b[0m \u001b[38;5;28;01melse\u001b[39;00m:\n\u001b[0;32m-> 1511\u001b[0m     \u001b[38;5;28;01mreturn\u001b[39;00m \u001b[38;5;28;43mself\u001b[39;49m\u001b[38;5;241;43m.\u001b[39;49m\u001b[43m_call_impl\u001b[49m\u001b[43m(\u001b[49m\u001b[38;5;241;43m*\u001b[39;49m\u001b[43margs\u001b[49m\u001b[43m,\u001b[49m\u001b[43m \u001b[49m\u001b[38;5;241;43m*\u001b[39;49m\u001b[38;5;241;43m*\u001b[39;49m\u001b[43mkwargs\u001b[49m\u001b[43m)\u001b[49m\n",
      "File \u001b[0;32m~/code/pykan-env/lib/python3.10/site-packages/torch/nn/modules/module.py:1520\u001b[0m, in \u001b[0;36mModule._call_impl\u001b[0;34m(self, *args, **kwargs)\u001b[0m\n\u001b[1;32m   1515\u001b[0m \u001b[38;5;66;03m# If we don't have any hooks, we want to skip the rest of the logic in\u001b[39;00m\n\u001b[1;32m   1516\u001b[0m \u001b[38;5;66;03m# this function, and just call forward.\u001b[39;00m\n\u001b[1;32m   1517\u001b[0m \u001b[38;5;28;01mif\u001b[39;00m \u001b[38;5;129;01mnot\u001b[39;00m (\u001b[38;5;28mself\u001b[39m\u001b[38;5;241m.\u001b[39m_backward_hooks \u001b[38;5;129;01mor\u001b[39;00m \u001b[38;5;28mself\u001b[39m\u001b[38;5;241m.\u001b[39m_backward_pre_hooks \u001b[38;5;129;01mor\u001b[39;00m \u001b[38;5;28mself\u001b[39m\u001b[38;5;241m.\u001b[39m_forward_hooks \u001b[38;5;129;01mor\u001b[39;00m \u001b[38;5;28mself\u001b[39m\u001b[38;5;241m.\u001b[39m_forward_pre_hooks\n\u001b[1;32m   1518\u001b[0m         \u001b[38;5;129;01mor\u001b[39;00m _global_backward_pre_hooks \u001b[38;5;129;01mor\u001b[39;00m _global_backward_hooks\n\u001b[1;32m   1519\u001b[0m         \u001b[38;5;129;01mor\u001b[39;00m _global_forward_hooks \u001b[38;5;129;01mor\u001b[39;00m _global_forward_pre_hooks):\n\u001b[0;32m-> 1520\u001b[0m     \u001b[38;5;28;01mreturn\u001b[39;00m \u001b[43mforward_call\u001b[49m\u001b[43m(\u001b[49m\u001b[38;5;241;43m*\u001b[39;49m\u001b[43margs\u001b[49m\u001b[43m,\u001b[49m\u001b[43m \u001b[49m\u001b[38;5;241;43m*\u001b[39;49m\u001b[38;5;241;43m*\u001b[39;49m\u001b[43mkwargs\u001b[49m\u001b[43m)\u001b[49m\n\u001b[1;32m   1522\u001b[0m \u001b[38;5;28;01mtry\u001b[39;00m:\n\u001b[1;32m   1523\u001b[0m     result \u001b[38;5;241m=\u001b[39m \u001b[38;5;28;01mNone\u001b[39;00m\n",
      "File \u001b[0;32m~/code/pykan-env/lib/python3.10/site-packages/kan/Symbolic_KANLayer.py:111\u001b[0m, in \u001b[0;36mSymbolic_KANLayer.forward\u001b[0;34m(self, x)\u001b[0m\n\u001b[1;32m    109\u001b[0m         xij \u001b[38;5;241m=\u001b[39m \u001b[38;5;28mself\u001b[39m\u001b[38;5;241m.\u001b[39maffine[j,i,\u001b[38;5;241m2\u001b[39m]\u001b[38;5;241m*\u001b[39m\u001b[38;5;28mself\u001b[39m\u001b[38;5;241m.\u001b[39mfuns[j][i](\u001b[38;5;28mself\u001b[39m\u001b[38;5;241m.\u001b[39maffine[j,i,\u001b[38;5;241m0\u001b[39m]\u001b[38;5;241m*\u001b[39mx[:,[i]]\u001b[38;5;241m+\u001b[39m\u001b[38;5;28mself\u001b[39m\u001b[38;5;241m.\u001b[39maffine[j,i,\u001b[38;5;241m1\u001b[39m])\u001b[38;5;241m+\u001b[39m\u001b[38;5;28mself\u001b[39m\u001b[38;5;241m.\u001b[39maffine[j,i,\u001b[38;5;241m3\u001b[39m]\n\u001b[1;32m    110\u001b[0m         postacts_\u001b[38;5;241m.\u001b[39mappend(\u001b[38;5;28mself\u001b[39m\u001b[38;5;241m.\u001b[39mmask[j][i]\u001b[38;5;241m*\u001b[39mxij)\n\u001b[0;32m--> 111\u001b[0m     postacts\u001b[38;5;241m.\u001b[39mappend(\u001b[43mtorch\u001b[49m\u001b[38;5;241;43m.\u001b[39;49m\u001b[43mstack\u001b[49m\u001b[43m(\u001b[49m\u001b[43mpostacts_\u001b[49m\u001b[43m)\u001b[49m)\n\u001b[1;32m    113\u001b[0m postacts \u001b[38;5;241m=\u001b[39m torch\u001b[38;5;241m.\u001b[39mstack(postacts)\n\u001b[1;32m    114\u001b[0m postacts \u001b[38;5;241m=\u001b[39m postacts\u001b[38;5;241m.\u001b[39mpermute(\u001b[38;5;241m2\u001b[39m,\u001b[38;5;241m1\u001b[39m,\u001b[38;5;241m0\u001b[39m,\u001b[38;5;241m3\u001b[39m)[:,:,:,\u001b[38;5;241m0\u001b[39m]\n",
      "\u001b[0;31mRuntimeError\u001b[0m: stack expects a non-empty TensorList"
     ]
    }
   ],
   "source": [
    "model = model.prune(threshold=pruning_threshold)\n",
    "model(datasetoct4['train_input'].to(\"cpu\"))\n",
    "model.plot()"
   ]
  },
  {
   "cell_type": "code",
   "execution_count": null,
   "metadata": {},
   "outputs": [],
   "source": [
    "datasetoct5 = create_dataset(f, n_var=3, train_num=trainpoints_subtask, test_num=testpoints_subtask, seed=0, ranges=[[0, 5], [-5, 0], [0, 5]])\n",
    "model.train(datasetoct5, opt=\"LBFGS\", steps=int(80/6));\n",
    "f_pred = model(datasetoct5['test_input'].to('cpu')).to('cpu').detach().numpy()\n",
    "f_true = datasetoct5['test_label'].to('cpu').detach().numpy()\n",
    "r2 = 1 - np.sum((f_pred - f_true)**2)/np.sum(f_true**2)\n",
    "print(f\"R^2: {r2}\")\n",
    "\n",
    "f_pred = model(datasetall['test_input'].to('cpu')).to('cpu').detach().numpy()\n",
    "f_true = datasetall['test_label'].to('cpu').detach().numpy()\n",
    "r2 = 1 - np.sum((f_pred - f_true)**2)/np.sum(f_true**2)\n",
    "print(f\"R^2 of total dataset: {r2}\")\n",
    "\n",
    "model = model.prune(threshold=pruning_threshold)\n",
    "model(datasetoct5['train_input'].to(\"cpu\"))\n",
    "model.plot()"
   ]
  },
  {
   "cell_type": "code",
   "execution_count": null,
   "metadata": {},
   "outputs": [],
   "source": [
    "datasetoct6 = create_dataset(f, n_var=3, train_num=trainpoints_subtask, test_num=testpoints_subtask, seed=0, ranges=[[0, 5], [0, 5], [-5, 0]])\n",
    "model.train(datasetoct6, opt=\"LBFGS\", steps=int(80/7));\n",
    "f_pred = model(datasetoct6['test_input'].to('cpu')).to('cpu').detach().numpy()\n",
    "f_true = datasetoct6['test_label'].to('cpu').detach().numpy()\n",
    "r2 = 1 - np.sum((f_pred - f_true)**2)/np.sum(f_true**2)\n",
    "print(f\"R^2: {r2}\")\n",
    "\n",
    "f_pred = model(datasetall['test_input'].to('cpu')).to('cpu').detach().numpy()\n",
    "f_true = datasetall['test_label'].to('cpu').detach().numpy()\n",
    "r2 = 1 - np.sum((f_pred - f_true)**2)/np.sum(f_true**2)\n",
    "print(f\"R^2 of total dataset: {r2}\")\n",
    "\n",
    "model = model.prune(threshold=pruning_threshold)\n",
    "model(datasetoct6['train_input'].to(\"cpu\"))\n",
    "model.plot()"
   ]
  },
  {
   "cell_type": "code",
   "execution_count": null,
   "metadata": {},
   "outputs": [],
   "source": [
    "datasetoct7 = create_dataset(f, n_var=3, train_num=trainpoints_subtask, test_num=testpoints_subtask, seed=0, ranges=[[0, 5], [0, 5], [0, 5]])\n",
    "model.train(datasetoct7, opt=\"LBFGS\", steps=int(80/8));\n",
    "f_pred = model(datasetoct7['test_input'].to('cpu')).to('cpu').detach().numpy()\n",
    "f_true = datasetoct7['test_label'].to('cpu').detach().numpy()\n",
    "r2 = 1 - np.sum((f_pred - f_true)**2)/np.sum(f_true**2)\n",
    "print(f\"R^2: {r2}\")\n",
    "\n",
    "f_pred = model(datasetall['test_input'].to('cpu')).to('cpu').detach().numpy()\n",
    "f_true = datasetall['test_label'].to('cpu').detach().numpy()\n",
    "r2 = 1 - np.sum((f_pred - f_true)**2)/np.sum(f_true**2)\n",
    "print(f\"R^2 of total dataset: {r2}\")\n",
    "\n",
    "model = model.prune(threshold=pruning_threshold)\n",
    "model(datasetoct7['train_input'].to(\"cpu\"))\n",
    "model.plot()"
   ]
  }
 ],
 "metadata": {
  "kernelspec": {
   "display_name": "pykan-env",
   "language": "python",
   "name": "python3"
  },
  "language_info": {
   "codemirror_mode": {
    "name": "ipython",
    "version": 3
   },
   "file_extension": ".py",
   "mimetype": "text/x-python",
   "name": "python",
   "nbconvert_exporter": "python",
   "pygments_lexer": "ipython3",
   "version": "3.10.12"
  }
 },
 "nbformat": 4,
 "nbformat_minor": 2
}
